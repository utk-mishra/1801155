{
  "nbformat": 4,
  "nbformat_minor": 0,
  "metadata": {
    "colab": {
      "name": "ass1.ipynb",
      "provenance": [],
      "collapsed_sections": [],
      "authorship_tag": "ABX9TyMDUxaQ6BSHMJP+OYpRTCLX",
      "include_colab_link": true
    },
    "kernelspec": {
      "name": "python3",
      "display_name": "Python 3"
    }
  },
  "cells": [
    {
      "cell_type": "markdown",
      "metadata": {
        "id": "view-in-github",
        "colab_type": "text"
      },
      "source": [
        "<a href=\"https://colab.research.google.com/github/sanchit-22/1801155/blob/master/lab1/ass1.ipynb\" target=\"_parent\"><img src=\"https://colab.research.google.com/assets/colab-badge.svg\" alt=\"Open In Colab\"/></a>"
      ]
    },
    {
      "cell_type": "markdown",
      "metadata": {
        "id": "zEqvBzCFpDEQ"
      },
      "source": [
        "**PART 1 question 1**\n",
        "\n"
      ]
    },
    {
      "cell_type": "code",
      "metadata": {
        "id": "QFEcId6joQjU",
        "outputId": "f6dd9b7f-1a21-4506-88d5-fc4c2afba7b2",
        "colab": {
          "base_uri": "https://localhost:8080/",
          "height": 69
        }
      },
      "source": [
        "import numpy as np\n",
        "A=np.array([0])\n",
        "B=np.array([1])\n",
        "C=np.array([5])\n",
        "for i in range(9):\n",
        "  A=np.append(A,0)\n",
        "  B=np.append(B,1)\n",
        "  C=np.append(C,5)\n",
        "print(A)\n",
        "print(B)\n",
        "print(C)"
      ],
      "execution_count": null,
      "outputs": [
        {
          "output_type": "stream",
          "text": [
            "[0 0 0 0 0 0 0 0 0 0]\n",
            "[1 1 1 1 1 1 1 1 1 1]\n",
            "[5 5 5 5 5 5 5 5 5 5]\n"
          ],
          "name": "stdout"
        }
      ]
    },
    {
      "cell_type": "markdown",
      "metadata": {
        "id": "LvUbfUFVruUN"
      },
      "source": [
        "**PART 1 question 2**"
      ]
    },
    {
      "cell_type": "code",
      "metadata": {
        "id": "kaUJMvn7ry20",
        "outputId": "2daf3b9e-028a-4e24-ab90-4d1d8d1ea4d5",
        "colab": {
          "base_uri": "https://localhost:8080/",
          "height": 34
        }
      },
      "source": [
        "import numpy as np\n",
        "A=np.array([10])\n",
        "for i in range(11,50):\n",
        "  if i%2==0:\n",
        "    A=np.append(A,i)\n",
        "print(A)"
      ],
      "execution_count": null,
      "outputs": [
        {
          "output_type": "stream",
          "text": [
            "[10 12 14 16 18 20 22 24 26 28 30 32 34 36 38 40 42 44 46 48]\n"
          ],
          "name": "stdout"
        }
      ]
    },
    {
      "cell_type": "markdown",
      "metadata": {
        "id": "RxFvu4iqsi7t"
      },
      "source": [
        "**PART 1 question 3**"
      ]
    },
    {
      "cell_type": "code",
      "metadata": {
        "id": "yBWeJWBQsoI3",
        "outputId": "8512f07e-ff11-4d91-f662-aad160406dbe",
        "colab": {
          "base_uri": "https://localhost:8080/",
          "height": 69
        }
      },
      "source": [
        "import numpy as np\n",
        "x=np.random.random(size=(3,3))\n",
        "print(x)"
      ],
      "execution_count": null,
      "outputs": [
        {
          "output_type": "stream",
          "text": [
            "[[0.55766034 0.00466092 0.93778963]\n",
            " [0.72963517 0.24721152 0.40192418]\n",
            " [0.04223058 0.54241835 0.03900684]]\n"
          ],
          "name": "stdout"
        }
      ]
    },
    {
      "cell_type": "markdown",
      "metadata": {
        "id": "Yz9obCU3t0mq"
      },
      "source": [
        "**PART 1 question 4**\n"
      ]
    },
    {
      "cell_type": "code",
      "metadata": {
        "id": "nFsmX2p9t7dy",
        "outputId": "445e9358-2805-4437-be7c-030ef9b2fb51",
        "colab": {
          "base_uri": "https://localhost:8080/",
          "height": 156
        }
      },
      "source": [
        "import numpy as np\n",
        "A=np.random.random(size=(3,3))\n",
        "print(\"before loading\")\n",
        "print(A)\n",
        "f = open(\"test1_4.txt\", \"w\")\n",
        "data=str(A)\n",
        "f.write(data)\n",
        "f.close()\n",
        "f = open(\"test1_4.txt\", \"r\")\n",
        "print(\"after loading\")\n",
        "print(f.read()) "
      ],
      "execution_count": null,
      "outputs": [
        {
          "output_type": "stream",
          "text": [
            "before loading\n",
            "[[0.41469419 0.04058717 0.62625077]\n",
            " [0.23423889 0.06682867 0.64122325]\n",
            " [0.32854054 0.79809607 0.13196638]]\n",
            "after loading\n",
            "[[0.41469419 0.04058717 0.62625077]\n",
            " [0.23423889 0.06682867 0.64122325]\n",
            " [0.32854054 0.79809607 0.13196638]]\n"
          ],
          "name": "stdout"
        }
      ]
    },
    {
      "cell_type": "markdown",
      "metadata": {
        "id": "HQP4pEzFV-UZ"
      },
      "source": [
        "**PART 2 question 1**"
      ]
    },
    {
      "cell_type": "code",
      "metadata": {
        "id": "yGo1mcY-M16G"
      },
      "source": [
        "import pandas as pd\n",
        "from PIL import Image\n",
        "import numpy as np\n",
        "from skimage import io\n",
        "image = io.imread('https://img.icons8.com/windows/32/000000/online-store.png')\n",
        "import csv\n",
        "\n",
        "def csvWriter(fil_name, nparray):\n",
        "  example = nparray.tolist()\n",
        "  with open(fil_name+'.csv', 'w', newline='') as csvfile:\n",
        "    writer = csv.writer(csvfile, delimiter=',')\n",
        "    writer.writerows(example)\n",
        "csvWriter(\"image_matrix\", image)\n",
        "\n"
      ],
      "execution_count": null,
      "outputs": []
    },
    {
      "cell_type": "markdown",
      "metadata": {
        "id": "aYVEpDGy4ghV"
      },
      "source": [
        "**PART 2 question 2**"
      ]
    },
    {
      "cell_type": "code",
      "metadata": {
        "id": "7V7xVN4g4fed",
        "outputId": "7817d79b-0d79-45d6-85e6-37071546f866",
        "colab": {
          "base_uri": "https://localhost:8080/",
          "height": 607
        }
      },
      "source": [
        "import pandas as pd\n",
        "def readCSV(CSVfile):\n",
        "  # function to import data from CSV file w/o last ROW and last COL\n",
        "  loaded_df = pd.read_csv(CSVfile, skiprows=-1)\n",
        "  loaded_df = loaded_df.iloc[:, :-1]\n",
        "  return loaded_df\n",
        "ReqData = readCSV(\"image_matrix.csv\")"
      ],
      "execution_count": null,
      "outputs": [
        {
          "output_type": "stream",
          "text": [
            "    [0, 0, 0, 0] [0, 0, 0, 0].1  ... [0, 0, 0, 0].29 [0, 0, 0, 0].30\n",
            "0   [0, 0, 0, 0]   [0, 0, 0, 0]  ...    [0, 0, 0, 0]    [0, 0, 0, 0]\n",
            "1   [0, 0, 0, 0]   [0, 0, 0, 0]  ...    [0, 0, 0, 0]    [0, 0, 0, 0]\n",
            "2   [0, 0, 0, 0]   [0, 0, 0, 0]  ...    [0, 0, 0, 0]    [0, 0, 0, 0]\n",
            "3   [0, 0, 0, 0]   [0, 0, 0, 0]  ...    [0, 0, 0, 0]    [0, 0, 0, 0]\n",
            "4   [0, 0, 0, 0]   [0, 0, 0, 0]  ...    [0, 0, 0, 0]    [0, 0, 0, 0]\n",
            "5   [0, 0, 0, 0]   [0, 0, 0, 0]  ...    [0, 0, 0, 0]    [0, 0, 0, 0]\n",
            "6   [0, 0, 0, 0]   [0, 0, 0, 0]  ...    [0, 0, 0, 0]    [0, 0, 0, 0]\n",
            "7   [0, 0, 0, 0]   [0, 0, 0, 0]  ...    [0, 0, 0, 0]    [0, 0, 0, 0]\n",
            "8   [0, 0, 0, 0]   [0, 0, 0, 0]  ...    [0, 0, 0, 0]    [0, 0, 0, 0]\n",
            "9   [0, 0, 0, 0]   [0, 0, 0, 0]  ...    [0, 0, 0, 0]    [0, 0, 0, 0]\n",
            "10  [0, 0, 0, 0]   [0, 0, 0, 0]  ...    [0, 0, 0, 0]    [0, 0, 0, 0]\n",
            "11  [0, 0, 0, 0]   [0, 0, 0, 0]  ...    [0, 0, 0, 0]    [0, 0, 0, 0]\n",
            "12  [0, 0, 0, 0]   [0, 0, 0, 0]  ...    [0, 0, 0, 0]    [0, 0, 0, 0]\n",
            "13  [0, 0, 0, 0]   [0, 0, 0, 0]  ...    [0, 0, 0, 0]    [0, 0, 0, 0]\n",
            "14  [0, 0, 0, 0]   [0, 0, 0, 0]  ...    [0, 0, 0, 0]    [0, 0, 0, 0]\n",
            "15  [0, 0, 0, 0]   [0, 0, 0, 0]  ...    [0, 0, 0, 0]    [0, 0, 0, 0]\n",
            "16  [0, 0, 0, 0]   [0, 0, 0, 0]  ...    [0, 0, 0, 0]    [0, 0, 0, 0]\n",
            "17  [0, 0, 0, 0]   [0, 0, 0, 0]  ...    [0, 0, 0, 0]    [0, 0, 0, 0]\n",
            "18  [0, 0, 0, 0]   [0, 0, 0, 0]  ...    [0, 0, 0, 0]    [0, 0, 0, 0]\n",
            "19  [0, 0, 0, 0]   [0, 0, 0, 0]  ...    [0, 0, 0, 0]    [0, 0, 0, 0]\n",
            "20  [0, 0, 0, 0]   [0, 0, 0, 0]  ...    [0, 0, 0, 0]    [0, 0, 0, 0]\n",
            "21  [0, 0, 0, 0]   [0, 0, 0, 0]  ...    [0, 0, 0, 0]    [0, 0, 0, 0]\n",
            "22  [0, 0, 0, 0]   [0, 0, 0, 0]  ...    [0, 0, 0, 0]    [0, 0, 0, 0]\n",
            "23  [0, 0, 0, 0]   [0, 0, 0, 0]  ...    [0, 0, 0, 0]    [0, 0, 0, 0]\n",
            "24  [0, 0, 0, 0]   [0, 0, 0, 0]  ...    [0, 0, 0, 0]    [0, 0, 0, 0]\n",
            "25  [0, 0, 0, 0]   [0, 0, 0, 0]  ...    [0, 0, 0, 0]    [0, 0, 0, 0]\n",
            "26  [0, 0, 0, 0]   [0, 0, 0, 0]  ...    [0, 0, 0, 0]    [0, 0, 0, 0]\n",
            "27  [0, 0, 0, 0]   [0, 0, 0, 0]  ...    [0, 0, 0, 0]    [0, 0, 0, 0]\n",
            "28  [0, 0, 0, 0]   [0, 0, 0, 0]  ...    [0, 0, 0, 0]    [0, 0, 0, 0]\n",
            "29  [0, 0, 0, 0]   [0, 0, 0, 0]  ...    [0, 0, 0, 0]    [0, 0, 0, 0]\n",
            "30  [0, 0, 0, 0]   [0, 0, 0, 0]  ...    [0, 0, 0, 0]    [0, 0, 0, 0]\n",
            "\n",
            "[31 rows x 31 columns]\n"
          ],
          "name": "stdout"
        }
      ]
    },
    {
      "cell_type": "markdown",
      "metadata": {
        "id": "gtUGLyjeU2t_"
      },
      "source": [
        "**PART 2 question 3**"
      ]
    },
    {
      "cell_type": "code",
      "metadata": {
        "id": "qE561BhJUzTn",
        "outputId": "8805c4fa-e3ad-4b7f-d03a-4fcb7ffa3436",
        "colab": {
          "base_uri": "https://localhost:8080/",
          "height": 52
        }
      },
      "source": [
        "import pandas as pd\n",
        "from datetime import date\n",
        "now = pd.to_datetime(str(date.today()), format='%Y-%m-%d')\n",
        "print(\"Today's date:\")\n",
        "print(now)"
      ],
      "execution_count": null,
      "outputs": [
        {
          "output_type": "stream",
          "text": [
            "Today's date:\n",
            "2020-08-23 00:00:00\n"
          ],
          "name": "stdout"
        }
      ]
    },
    {
      "cell_type": "markdown",
      "metadata": {
        "id": "4y4dSeZ4ycGM"
      },
      "source": [
        "**PART 3(mini calculator)**"
      ]
    },
    {
      "cell_type": "code",
      "metadata": {
        "id": "UsdtT4wJyiP_",
        "outputId": "fb2271be-a081-48b3-9bd3-38b6b8a1e2d8",
        "colab": {
          "base_uri": "https://localhost:8080/",
          "height": 69
        }
      },
      "source": [
        "import numpy as np\n",
        "while 1:\n",
        "  x=input(\"give your date of birth in the format ddmmyyyy\")\n",
        "  x=int(x)\n",
        "  dob_year=x%10000\n",
        "  x=int(x/10000)\n",
        "  dob_month=x%100\n",
        "  x=int(x/100)\n",
        "  dob_day=x\n",
        "  if dob_month==2:\n",
        "    if dob_year%4==0 and dob_day<=29:\n",
        "      break\n",
        "    if dob_year%4!=0 and dob_day<=28:\n",
        "      break\n",
        "    else:\n",
        "      print(\"error give correct dob\")\n",
        "      continue\n",
        "  if np.searchsorted(day30,dob_month):\n",
        "    if dob_day<=30:\n",
        "      break\n",
        "    elif dob_day>=31:\n",
        "      print(\"error give coorect dob \")\n",
        "      continue\n",
        "  if np.searchsorted(day31,dob_month):\n",
        "    if dob_day<=31:\n",
        "      break\n",
        "    elif dob_day>31:\n",
        "      print(\"error give correct dob\")\n",
        "      continue\n",
        "while 1:\n",
        "  y=input(\"current date in the format of ddmmyyyy\")\n",
        "  y=int(y)\n",
        "  date_year=y%10000\n",
        "  y=int(y/10000)\n",
        "  date_month=y%100\n",
        "  y=int(y/100)\n",
        "  date_day=y\n",
        "  if date_month==2:\n",
        "    if date_year%4==0 and date_day<=29:\n",
        "      break\n",
        "    if date_year%4!=0 and date_day<=28:\n",
        "      break\n",
        "    else:\n",
        "      print(\"error give correct date\")\n",
        "      continue\n",
        "  if np.searchsorted(day30,dob_month):\n",
        "    if dob_day<=30:\n",
        "      break\n",
        "    elif dob_day>=31:\n",
        "      print(\"error enter corrent date\")\n",
        "      continue\n",
        "  if np.searchsorted(day31,dob_month):\n",
        "    if dob_day<=31:\n",
        "      break\n",
        "    elif dob_day>31:\n",
        "      print(\"error enter correct date\")\n",
        "      continue\n",
        "\n",
        "year=date_year-dob_year\n",
        "month=date_month-dob_month\n",
        "if month<0 :\n",
        "  year=year-1\n",
        "  month=12+month\n",
        "month=month-1\n",
        "day31=np.array([0,1,3,5,7,8,10,12])\n",
        "day30=np.array([0,4,6,9,11])\n",
        "if np.searchsorted(day30, dob_month):\n",
        "  day=30-dob_day\n",
        "if np.searchsorted(day31, dob_month):\n",
        "  day=31-dob_day\n",
        "if dob_month==2:\n",
        "  if dob_year%4==0:\n",
        "    day=29-dob_day\n",
        "  else:\n",
        "    day=28-dob_day\n",
        "day=day+date_day\n",
        "if day-31>0:\n",
        "  day=day-31\n",
        "  month=month+1\n",
        "if month<0:\n",
        "  month=12+month\n",
        "  year=year-1\n",
        "print(\"your age is=\"+str(year)+ \" year \"+str(month)+\" months \"+str(day)+\" day\")"
      ],
      "execution_count": null,
      "outputs": [
        {
          "output_type": "stream",
          "text": [
            "give your date of birth in the format ddmmyyyy29081994\n",
            "current date in the format of ddmmyyyy23082020\n",
            "your age is=25 year 11 months 25 day\n"
          ],
          "name": "stdout"
        }
      ]
    }
  ]
}